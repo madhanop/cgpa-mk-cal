{
 "cells": [
  {
   "cell_type": "code",
   "execution_count": 1,
   "id": "c20c5ee1",
   "metadata": {},
   "outputs": [],
   "source": [
    "def cgpaCalculator():\n",
    "\t#This is the total Score Obtainable based on the Number Of Courses Offerred\n",
    "\tTotalScoreOfferable = 0\n",
    "\t#This is the score obtained by the person which is intially zero\n",
    "\tobtainedGrade = 0\n",
    "\n",
    "\t# The user Enters the Number of Courses he Offered\n",
    "\tnumberOfCourses = int(input(\"Enter the number of Courses : \"))\n",
    "\tprint (\"**********************************************************************************************************************************\")\n",
    "\t# this creates a for loop to collect all Courses offered\n",
    "\tfor x in range(numberOfCourses):\n",
    "\t\t# This takes in the name of the course \n",
    "\t\tCourse1 = input(\"Enter The Course code of the  course:\")\n",
    "\t\t# THis takes in the number of unit of the course \n",
    "\t\tunit = int(input (\"How many Unit is the Course : \"))\n",
    "\t\t#This takes in the person score in the course\n",
    "\t\tscore = int(input(\"Enter your Score:\"))\n",
    "\t\tprint (\"**********************************************************************************************************************************\")\n",
    "\n",
    "\t\t#This increament the totalScore obtainable based on the unit of the course \n",
    "\t\tTotalScoreOfferable += unit* 5\n",
    "\n",
    "\n",
    "\t\t# these are cases for grade (70-100 = 5 points , 60-70 = 4 points , 50-60 = 3 points ,50-45 = 2 points , 45-40 = 1 point , lesser than 40 = 0 points )\n",
    "\t\tif (score >= 70):\n",
    "\t\t\tgrade = 5\n",
    "\t\telif(score < 70 and  score >= 60):\n",
    "\t\t\tgrade = 4 \n",
    "\t\telif(score < 60 and  score >= 50 ):\n",
    "\t\t\tgrade = 3\n",
    "\t\telif(score < 50 and  score >=45):\n",
    "\t\t\tgrade = 2\n",
    "\t\telif (score < 45 and  score>=40):\n",
    "\t\t\tgrade = 1\n",
    "\t\telse :\n",
    "\t\t\tgrade = 0 \n",
    "\n",
    "\n",
    "\t\tobtainedGrade += unit*grade\n",
    "\n",
    "\tCgpa =float((obtainedGrade / TotalScoreOfferable) * 5)\n",
    "\tprint(\"CGPA IS : \" + str(Cgpa))\n",
    "\n",
    "\n"
   ]
  },
  {
   "cell_type": "code",
   "execution_count": null,
   "id": "e8198835",
   "metadata": {},
   "outputs": [],
   "source": []
  }
 ],
 "metadata": {
  "kernelspec": {
   "display_name": "Python 3 (ipykernel)",
   "language": "python",
   "name": "python3"
  },
  "language_info": {
   "codemirror_mode": {
    "name": "ipython",
    "version": 3
   },
   "file_extension": ".py",
   "mimetype": "text/x-python",
   "name": "python",
   "nbconvert_exporter": "python",
   "pygments_lexer": "ipython3",
   "version": "3.9.7"
  }
 },
 "nbformat": 4,
 "nbformat_minor": 5
}
